{
 "cells": [
  {
   "cell_type": "code",
   "execution_count": 1,
   "metadata": {},
   "outputs": [
    {
     "name": "stdout",
     "output_type": "stream",
     "text": [
      "Hello World\n"
     ]
    }
   ],
   "source": [
    "print(\"Hello World\")"
   ]
  },
  {
   "cell_type": "code",
   "execution_count": 2,
   "metadata": {},
   "outputs": [
    {
     "name": "stdout",
     "output_type": "stream",
     "text": [
      "12\n",
      "12.0\n"
     ]
    }
   ],
   "source": [
    "a=12\n",
    "b=float(a)\n",
    "print(a)\n",
    "print(b)"
   ]
  },
  {
   "cell_type": "code",
   "execution_count": 15,
   "metadata": {},
   "outputs": [
    {
     "name": "stdout",
     "output_type": "stream",
     "text": [
      "----------Array with Random Elements---------\n",
      "[25 10 27 28 20 31 12 26 49 40 41 15 24 47 17]\n"
     ]
    }
   ],
   "source": [
    "import numpy as np\n",
    "import random\n",
    "class Random:\n",
    "    def random_array():\n",
    "        arr_1=np.random.randint(10,50,15)\n",
    "        print(\"----------Array with Random Elements---------\")\n",
    "        print(arr_1)\n",
    "Random.random_array()"
   ]
  }
 ],
 "metadata": {
  "kernelspec": {
   "display_name": "Python 3",
   "language": "python",
   "name": "python3"
  },
  "language_info": {
   "codemirror_mode": {
    "name": "ipython",
    "version": 3
   },
   "file_extension": ".py",
   "mimetype": "text/x-python",
   "name": "python",
   "nbconvert_exporter": "python",
   "pygments_lexer": "ipython3",
   "version": "3.11.1"
  },
  "orig_nbformat": 4,
  "vscode": {
   "interpreter": {
    "hash": "d330d841fa6048312ad1ebc1f4b0fa8ac8fc3be70cc4357555139ab54ffc7519"
   }
  }
 },
 "nbformat": 4,
 "nbformat_minor": 2
}
